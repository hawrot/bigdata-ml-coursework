{
 "nbformat": 4,
 "nbformat_minor": 2,
 "metadata": {
  "language_info": {
   "name": "python",
   "codemirror_mode": {
    "name": "ipython",
    "version": 3
   },
   "version": "3.7.3"
  },
  "orig_nbformat": 2,
  "file_extension": ".py",
  "mimetype": "text/x-python",
  "name": "python",
  "npconvert_exporter": "python",
  "pygments_lexer": "ipython3",
  "version": 3
 },
 "cells": [
  {
   "cell_type": "code",
   "execution_count": 2,
   "metadata": {},
   "outputs": [],
   "source": [
    "import pandas as pd \n",
    "from sklearn.tree import DecisionTreeClassifier\n",
    "from sklearn.model_selection import train_test_split\n",
    "from sklearn import metrics"
   ]
  },
  {
   "cell_type": "code",
   "execution_count": 3,
   "metadata": {},
   "outputs": [
    {
     "name": "stdout",
     "output_type": "stream",
     "text": "(706, 21)\n"
    }
   ],
   "source": [
    "dataset = pd.read_csv(\"preProcessedData.csv\")\n",
    "print(dataset.shape)\n"
   ]
  },
  {
   "cell_type": "code",
   "execution_count": 4,
   "metadata": {},
   "outputs": [
    {
     "data": {
      "text/html": "<div>\n<style scoped>\n    .dataframe tbody tr th:only-of-type {\n        vertical-align: middle;\n    }\n\n    .dataframe tbody tr th {\n        vertical-align: top;\n    }\n\n    .dataframe thead th {\n        text-align: right;\n    }\n</style>\n<table border=\"1\" class=\"dataframe\">\n  <thead>\n    <tr style=\"text-align: right;\">\n      <th></th>\n      <th>ID</th>\n      <th>Reason_for_absence</th>\n      <th>Month_of_absence</th>\n      <th>Day_of_the_week</th>\n      <th>Seasons</th>\n      <th>Transportation_expense</th>\n      <th>Distance_from_Residence_to_Work</th>\n      <th>Service_time</th>\n      <th>Age</th>\n      <th>Work_load_Average/day</th>\n      <th>...</th>\n      <th>Disciplinary_failure</th>\n      <th>Education</th>\n      <th>Son</th>\n      <th>Social_drinker</th>\n      <th>Social_smoker</th>\n      <th>Pet</th>\n      <th>Weight</th>\n      <th>Height</th>\n      <th>Bod_mass_index</th>\n      <th>Absenteeism</th>\n    </tr>\n  </thead>\n  <tbody>\n    <tr>\n      <th>0</th>\n      <td>11</td>\n      <td>26</td>\n      <td>7</td>\n      <td>3</td>\n      <td>1</td>\n      <td>289</td>\n      <td>36</td>\n      <td>13</td>\n      <td>33</td>\n      <td>239.554</td>\n      <td>...</td>\n      <td>0</td>\n      <td>1</td>\n      <td>2</td>\n      <td>1</td>\n      <td>0</td>\n      <td>1</td>\n      <td>90</td>\n      <td>172</td>\n      <td>30</td>\n      <td>4</td>\n    </tr>\n    <tr>\n      <th>1</th>\n      <td>36</td>\n      <td>0</td>\n      <td>7</td>\n      <td>3</td>\n      <td>1</td>\n      <td>118</td>\n      <td>13</td>\n      <td>18</td>\n      <td>50</td>\n      <td>239.554</td>\n      <td>...</td>\n      <td>1</td>\n      <td>1</td>\n      <td>1</td>\n      <td>1</td>\n      <td>0</td>\n      <td>0</td>\n      <td>98</td>\n      <td>178</td>\n      <td>31</td>\n      <td>0</td>\n    </tr>\n    <tr>\n      <th>2</th>\n      <td>3</td>\n      <td>23</td>\n      <td>7</td>\n      <td>4</td>\n      <td>1</td>\n      <td>179</td>\n      <td>51</td>\n      <td>18</td>\n      <td>38</td>\n      <td>239.554</td>\n      <td>...</td>\n      <td>0</td>\n      <td>1</td>\n      <td>0</td>\n      <td>1</td>\n      <td>0</td>\n      <td>0</td>\n      <td>89</td>\n      <td>170</td>\n      <td>31</td>\n      <td>2</td>\n    </tr>\n    <tr>\n      <th>3</th>\n      <td>7</td>\n      <td>7</td>\n      <td>7</td>\n      <td>5</td>\n      <td>1</td>\n      <td>279</td>\n      <td>5</td>\n      <td>14</td>\n      <td>39</td>\n      <td>239.554</td>\n      <td>...</td>\n      <td>0</td>\n      <td>1</td>\n      <td>2</td>\n      <td>1</td>\n      <td>1</td>\n      <td>0</td>\n      <td>68</td>\n      <td>168</td>\n      <td>24</td>\n      <td>4</td>\n    </tr>\n    <tr>\n      <th>4</th>\n      <td>11</td>\n      <td>23</td>\n      <td>7</td>\n      <td>5</td>\n      <td>1</td>\n      <td>289</td>\n      <td>36</td>\n      <td>13</td>\n      <td>33</td>\n      <td>239.554</td>\n      <td>...</td>\n      <td>0</td>\n      <td>1</td>\n      <td>2</td>\n      <td>1</td>\n      <td>0</td>\n      <td>1</td>\n      <td>90</td>\n      <td>172</td>\n      <td>30</td>\n      <td>2</td>\n    </tr>\n  </tbody>\n</table>\n<p>5 rows × 21 columns</p>\n</div>",
      "text/plain": "   ID  Reason_for_absence  Month_of_absence  Day_of_the_week  Seasons  \\\n0  11                  26                 7                3        1   \n1  36                   0                 7                3        1   \n2   3                  23                 7                4        1   \n3   7                   7                 7                5        1   \n4  11                  23                 7                5        1   \n\n   Transportation_expense  Distance_from_Residence_to_Work  Service_time  Age  \\\n0                     289                               36            13   33   \n1                     118                               13            18   50   \n2                     179                               51            18   38   \n3                     279                                5            14   39   \n4                     289                               36            13   33   \n\n   Work_load_Average/day   ...  Disciplinary_failure  Education  Son  \\\n0                 239.554  ...                     0          1    2   \n1                 239.554  ...                     1          1    1   \n2                 239.554  ...                     0          1    0   \n3                 239.554  ...                     0          1    2   \n4                 239.554  ...                     0          1    2   \n\n   Social_drinker  Social_smoker  Pet  Weight  Height  Bod_mass_index  \\\n0               1              0    1      90     172              30   \n1               1              0    0      98     178              31   \n2               1              0    0      89     170              31   \n3               1              1    0      68     168              24   \n4               1              0    1      90     172              30   \n\n   Absenteeism  \n0            4  \n1            0  \n2            2  \n3            4  \n4            2  \n\n[5 rows x 21 columns]"
     },
     "execution_count": 4,
     "metadata": {},
     "output_type": "execute_result"
    }
   ],
   "source": [
    "dataset.head()"
   ]
  },
  {
   "cell_type": "code",
   "execution_count": 5,
   "metadata": {},
   "outputs": [
    {
     "data": {
      "text/html": "<div>\n<style scoped>\n    .dataframe tbody tr th:only-of-type {\n        vertical-align: middle;\n    }\n\n    .dataframe tbody tr th {\n        vertical-align: top;\n    }\n\n    .dataframe thead th {\n        text-align: right;\n    }\n</style>\n<table border=\"1\" class=\"dataframe\">\n  <thead>\n    <tr style=\"text-align: right;\">\n      <th></th>\n      <th>ID</th>\n      <th>Reason_for_absence</th>\n      <th>Month_of_absence</th>\n      <th>Day_of_the_week</th>\n      <th>Seasons</th>\n      <th>Transportation_expense</th>\n      <th>Distance_from_Residence_to_Work</th>\n      <th>Service_time</th>\n      <th>Age</th>\n      <th>Work_load_Average/day</th>\n      <th>Hit_target</th>\n      <th>Disciplinary_failure</th>\n      <th>Education</th>\n      <th>Son</th>\n      <th>Social_drinker</th>\n      <th>Social_smoker</th>\n      <th>Pet</th>\n      <th>Weight</th>\n      <th>Height</th>\n      <th>Bod_mass_index</th>\n    </tr>\n  </thead>\n  <tbody>\n    <tr>\n      <th>0</th>\n      <td>11</td>\n      <td>26</td>\n      <td>7</td>\n      <td>3</td>\n      <td>1</td>\n      <td>289</td>\n      <td>36</td>\n      <td>13</td>\n      <td>33</td>\n      <td>239.554</td>\n      <td>97</td>\n      <td>0</td>\n      <td>1</td>\n      <td>2</td>\n      <td>1</td>\n      <td>0</td>\n      <td>1</td>\n      <td>90</td>\n      <td>172</td>\n      <td>30</td>\n    </tr>\n    <tr>\n      <th>1</th>\n      <td>36</td>\n      <td>0</td>\n      <td>7</td>\n      <td>3</td>\n      <td>1</td>\n      <td>118</td>\n      <td>13</td>\n      <td>18</td>\n      <td>50</td>\n      <td>239.554</td>\n      <td>97</td>\n      <td>1</td>\n      <td>1</td>\n      <td>1</td>\n      <td>1</td>\n      <td>0</td>\n      <td>0</td>\n      <td>98</td>\n      <td>178</td>\n      <td>31</td>\n    </tr>\n    <tr>\n      <th>2</th>\n      <td>3</td>\n      <td>23</td>\n      <td>7</td>\n      <td>4</td>\n      <td>1</td>\n      <td>179</td>\n      <td>51</td>\n      <td>18</td>\n      <td>38</td>\n      <td>239.554</td>\n      <td>97</td>\n      <td>0</td>\n      <td>1</td>\n      <td>0</td>\n      <td>1</td>\n      <td>0</td>\n      <td>0</td>\n      <td>89</td>\n      <td>170</td>\n      <td>31</td>\n    </tr>\n    <tr>\n      <th>3</th>\n      <td>7</td>\n      <td>7</td>\n      <td>7</td>\n      <td>5</td>\n      <td>1</td>\n      <td>279</td>\n      <td>5</td>\n      <td>14</td>\n      <td>39</td>\n      <td>239.554</td>\n      <td>97</td>\n      <td>0</td>\n      <td>1</td>\n      <td>2</td>\n      <td>1</td>\n      <td>1</td>\n      <td>0</td>\n      <td>68</td>\n      <td>168</td>\n      <td>24</td>\n    </tr>\n    <tr>\n      <th>4</th>\n      <td>11</td>\n      <td>23</td>\n      <td>7</td>\n      <td>5</td>\n      <td>1</td>\n      <td>289</td>\n      <td>36</td>\n      <td>13</td>\n      <td>33</td>\n      <td>239.554</td>\n      <td>97</td>\n      <td>0</td>\n      <td>1</td>\n      <td>2</td>\n      <td>1</td>\n      <td>0</td>\n      <td>1</td>\n      <td>90</td>\n      <td>172</td>\n      <td>30</td>\n    </tr>\n  </tbody>\n</table>\n</div>",
      "text/plain": "   ID  Reason_for_absence  Month_of_absence  Day_of_the_week  Seasons  \\\n0  11                  26                 7                3        1   \n1  36                   0                 7                3        1   \n2   3                  23                 7                4        1   \n3   7                   7                 7                5        1   \n4  11                  23                 7                5        1   \n\n   Transportation_expense  Distance_from_Residence_to_Work  Service_time  Age  \\\n0                     289                               36            13   33   \n1                     118                               13            18   50   \n2                     179                               51            18   38   \n3                     279                                5            14   39   \n4                     289                               36            13   33   \n\n   Work_load_Average/day   Hit_target  Disciplinary_failure  Education  Son  \\\n0                 239.554          97                     0          1    2   \n1                 239.554          97                     1          1    1   \n2                 239.554          97                     0          1    0   \n3                 239.554          97                     0          1    2   \n4                 239.554          97                     0          1    2   \n\n   Social_drinker  Social_smoker  Pet  Weight  Height  Bod_mass_index  \n0               1              0    1      90     172              30  \n1               1              0    0      98     178              31  \n2               1              0    0      89     170              31  \n3               1              1    0      68     168              24  \n4               1              0    1      90     172              30  "
     },
     "execution_count": 5,
     "metadata": {},
     "output_type": "execute_result"
    }
   ],
   "source": [
    "#Split dataset into input variable X and target y\n",
    "\n",
    "X = dataset.drop(['Absenteeism'], axis=1)\n",
    "\n",
    "X.head()"
   ]
  },
  {
   "cell_type": "code",
   "execution_count": 6,
   "metadata": {},
   "outputs": [
    {
     "name": "stdout",
     "output_type": "stream",
     "text": "0     4\n1     0\n2     2\n3     4\n4     2\n5     2\n6     8\n7     4\n8    40\n9     8\nName: Absenteeism, dtype: int64\n"
    }
   ],
   "source": [
    "y = dataset.Absenteeism\n",
    "print(y[0:10])"
   ]
  },
  {
   "cell_type": "code",
   "execution_count": 7,
   "metadata": {},
   "outputs": [
    {
     "name": "stdout",
     "output_type": "stream",
     "text": "(494, 20)\n"
    }
   ],
   "source": [
    "#Split the dataset into training and testing test\n",
    "X_train, X_test, y_train, y_test = train_test_split(X, y, test_size=0.3, random_state=1)\n",
    "#The size of the input training set\n",
    "print(X_train.shape)"
   ]
  },
  {
   "cell_type": "code",
   "execution_count": 8,
   "metadata": {},
   "outputs": [],
   "source": [
    "#Construct Decision Tree \n",
    "clf = DecisionTreeClassifier()\n",
    "clf = clf.fit(X_train, y_train)"
   ]
  },
  {
   "cell_type": "code",
   "execution_count": 9,
   "metadata": {},
   "outputs": [
    {
     "name": "stdout",
     "output_type": "stream",
     "text": "Accuracy is:  0.33962264150943394\n"
    }
   ],
   "source": [
    "#Predict the response for test dataset\n",
    "y_pred = clf.predict(X_test)\n",
    "\n",
    "#Accuracy\n",
    "print(\"Accuracy is: \", metrics.accuracy_score(y_test, y_pred))"
   ]
  },
  {
   "cell_type": "code",
   "execution_count": 10,
   "metadata": {},
   "outputs": [
    {
     "name": "stdout",
     "output_type": "stream",
     "text": "Accuracy is:  0.46226415094339623\n"
    }
   ],
   "source": [
    "#Tune the decision tree model\n",
    "\n",
    "clf = DecisionTreeClassifier(criterion=\"entropy\", max_depth=3)\n",
    "\n",
    "#Train DTC\n",
    "clf = clf.fit(X_train, y_train)\n",
    "\n",
    "#Predict\n",
    "y_pred = clf.predict(X_test)\n",
    "\n",
    "#Accuracy\n",
    "print(\"Accuracy is: \", metrics.accuracy_score(y_test, y_pred))"
   ]
  },
  {
   "cell_type": "code",
   "execution_count": null,
   "metadata": {},
   "outputs": [],
   "source": []
  },
  {
   "cell_type": "code",
   "execution_count": 13,
   "metadata": {},
   "outputs": [
    {
     "ename": "ValueError",
     "evalue": "Length of feature_names, 19 does not match number of features, 20",
     "output_type": "error",
     "traceback": [
      "\u001b[0;31m---------------------------------------------------------------------------\u001b[0m",
      "\u001b[0;31mValueError\u001b[0m                                Traceback (most recent call last)",
      "\u001b[0;32m<ipython-input-13-d7dff0230f38>\u001b[0m in \u001b[0;36m<module>\u001b[0;34m\u001b[0m\n\u001b[1;32m      6\u001b[0m \u001b[0mfeature_cols\u001b[0m \u001b[0;34m=\u001b[0m \u001b[0;34m[\u001b[0m\u001b[0;34m'ID'\u001b[0m\u001b[0;34m,\u001b[0m \u001b[0;34m'Reason_for_absence'\u001b[0m\u001b[0;34m,\u001b[0m \u001b[0;34m'Month_of_absence'\u001b[0m\u001b[0;34m,\u001b[0m \u001b[0;34m'Day_of_absence'\u001b[0m \u001b[0;34m'Seasons'\u001b[0m\u001b[0;34m,\u001b[0m \u001b[0;34m'Transportation_expense'\u001b[0m\u001b[0;34m,\u001b[0m \u001b[0;34m'Distance_from_Residence_to_work'\u001b[0m\u001b[0;34m,\u001b[0m \u001b[0;34m'Service_time'\u001b[0m\u001b[0;34m,\u001b[0m \u001b[0;34m'Age'\u001b[0m\u001b[0;34m,\u001b[0m \u001b[0;34m'Work_load_Average/day'\u001b[0m\u001b[0;34m,\u001b[0m \u001b[0;34m'Hit_target'\u001b[0m\u001b[0;34m,\u001b[0m \u001b[0;34m'Disciplinary_failure'\u001b[0m\u001b[0;34m,\u001b[0m \u001b[0;34m'Education'\u001b[0m\u001b[0;34m,\u001b[0m \u001b[0;34m'Son'\u001b[0m\u001b[0;34m,\u001b[0m \u001b[0;34m'Social_drinker'\u001b[0m\u001b[0;34m,\u001b[0m \u001b[0;34m'Social_smoker'\u001b[0m\u001b[0;34m,\u001b[0m \u001b[0;34m'Pet'\u001b[0m\u001b[0;34m,\u001b[0m \u001b[0;34m'Wieght'\u001b[0m\u001b[0;34m,\u001b[0m \u001b[0;34m'Height'\u001b[0m\u001b[0;34m,\u001b[0m \u001b[0;34m\"Bod_mass_index\"\u001b[0m\u001b[0;34m]\u001b[0m\u001b[0;34m\u001b[0m\u001b[0;34m\u001b[0m\u001b[0m\n\u001b[1;32m      7\u001b[0m \u001b[0mdot_data\u001b[0m \u001b[0;34m=\u001b[0m \u001b[0mStringIO\u001b[0m\u001b[0;34m(\u001b[0m\u001b[0;34m)\u001b[0m\u001b[0;34m\u001b[0m\u001b[0;34m\u001b[0m\u001b[0m\n\u001b[0;32m----> 8\u001b[0;31m \u001b[0mexport_graphviz\u001b[0m\u001b[0;34m(\u001b[0m\u001b[0mclf\u001b[0m\u001b[0;34m,\u001b[0m \u001b[0mout_file\u001b[0m\u001b[0;34m=\u001b[0m\u001b[0mdot_data\u001b[0m\u001b[0;34m,\u001b[0m \u001b[0mfilled\u001b[0m\u001b[0;34m=\u001b[0m\u001b[0;32mTrue\u001b[0m\u001b[0;34m,\u001b[0m \u001b[0mrounded\u001b[0m\u001b[0;34m=\u001b[0m\u001b[0;32mTrue\u001b[0m\u001b[0;34m,\u001b[0m \u001b[0mspecial_characters\u001b[0m\u001b[0;34m=\u001b[0m\u001b[0;32mTrue\u001b[0m\u001b[0;34m,\u001b[0m \u001b[0mfeature_names\u001b[0m \u001b[0;34m=\u001b[0m \u001b[0mfeature_cols\u001b[0m\u001b[0;34m,\u001b[0m \u001b[0mclass_names\u001b[0m\u001b[0;34m=\u001b[0m\u001b[0;34m[\u001b[0m\u001b[0;34m'0'\u001b[0m\u001b[0;34m,\u001b[0m \u001b[0;34m'1'\u001b[0m\u001b[0;34m]\u001b[0m\u001b[0;34m)\u001b[0m\u001b[0;34m\u001b[0m\u001b[0;34m\u001b[0m\u001b[0m\n\u001b[0m\u001b[1;32m      9\u001b[0m \u001b[0mgraph\u001b[0m \u001b[0;34m=\u001b[0m \u001b[0mpydotplus\u001b[0m\u001b[0;34m.\u001b[0m\u001b[0mgraph_from_dot_data\u001b[0m\u001b[0;34m(\u001b[0m\u001b[0mdot_data\u001b[0m\u001b[0;34m.\u001b[0m\u001b[0mgetvalue\u001b[0m\u001b[0;34m(\u001b[0m\u001b[0;34m)\u001b[0m\u001b[0;34m)\u001b[0m\u001b[0;34m\u001b[0m\u001b[0;34m\u001b[0m\u001b[0m\n\u001b[1;32m     10\u001b[0m \u001b[0mgraph\u001b[0m\u001b[0;34m.\u001b[0m\u001b[0mwrite_png\u001b[0m\u001b[0;34m(\u001b[0m\u001b[0;34m'decisionTree.png'\u001b[0m\u001b[0;34m)\u001b[0m\u001b[0;34m\u001b[0m\u001b[0;34m\u001b[0m\u001b[0m\n",
      "\u001b[0;32m~/anaconda3/lib/python3.7/site-packages/sklearn/tree/export.py\u001b[0m in \u001b[0;36mexport_graphviz\u001b[0;34m(decision_tree, out_file, max_depth, feature_names, class_names, label, filled, leaves_parallel, impurity, node_ids, proportion, rotate, rounded, special_characters, precision)\u001b[0m\n\u001b[1;32m    773\u001b[0m             \u001b[0mrounded\u001b[0m\u001b[0;34m=\u001b[0m\u001b[0mrounded\u001b[0m\u001b[0;34m,\u001b[0m \u001b[0mspecial_characters\u001b[0m\u001b[0;34m=\u001b[0m\u001b[0mspecial_characters\u001b[0m\u001b[0;34m,\u001b[0m\u001b[0;34m\u001b[0m\u001b[0;34m\u001b[0m\u001b[0m\n\u001b[1;32m    774\u001b[0m             precision=precision)\n\u001b[0;32m--> 775\u001b[0;31m         \u001b[0mexporter\u001b[0m\u001b[0;34m.\u001b[0m\u001b[0mexport\u001b[0m\u001b[0;34m(\u001b[0m\u001b[0mdecision_tree\u001b[0m\u001b[0;34m)\u001b[0m\u001b[0;34m\u001b[0m\u001b[0;34m\u001b[0m\u001b[0m\n\u001b[0m\u001b[1;32m    776\u001b[0m \u001b[0;34m\u001b[0m\u001b[0m\n\u001b[1;32m    777\u001b[0m         \u001b[0;32mif\u001b[0m \u001b[0mreturn_string\u001b[0m\u001b[0;34m:\u001b[0m\u001b[0;34m\u001b[0m\u001b[0;34m\u001b[0m\u001b[0m\n",
      "\u001b[0;32m~/anaconda3/lib/python3.7/site-packages/sklearn/tree/export.py\u001b[0m in \u001b[0;36mexport\u001b[0;34m(self, decision_tree)\u001b[0m\n\u001b[1;32m    399\u001b[0m                                  \u001b[0;34m\"does not match number of features, %d\"\u001b[0m\u001b[0;34m\u001b[0m\u001b[0;34m\u001b[0m\u001b[0m\n\u001b[1;32m    400\u001b[0m                                  % (len(self.feature_names),\n\u001b[0;32m--> 401\u001b[0;31m                                     decision_tree.n_features_))\n\u001b[0m\u001b[1;32m    402\u001b[0m         \u001b[0;31m# each part writes to out_file\u001b[0m\u001b[0;34m\u001b[0m\u001b[0;34m\u001b[0m\u001b[0;34m\u001b[0m\u001b[0m\n\u001b[1;32m    403\u001b[0m         \u001b[0mself\u001b[0m\u001b[0;34m.\u001b[0m\u001b[0mhead\u001b[0m\u001b[0;34m(\u001b[0m\u001b[0;34m)\u001b[0m\u001b[0;34m\u001b[0m\u001b[0;34m\u001b[0m\u001b[0m\n",
      "\u001b[0;31mValueError\u001b[0m: Length of feature_names, 19 does not match number of features, 20"
     ]
    }
   ],
   "source": [
    "from sklearn.tree import export_graphviz\n",
    "from sklearn.externals.six import StringIO\n",
    "from IPython.display import Image\n",
    "import pydotplus\n",
    "\n",
    "feature_cols = ['ID', 'Reason_for_absence', 'Month_of_absence', 'Day_of_absence' 'Seasons', 'Transportation_expense', 'Distance_from_Residence_to_work', 'Service_time', 'Age', 'Work_load_Average/day', 'Hit_target', 'Disciplinary_failure', 'Education', 'Son', 'Social_drinker', 'Social_smoker', 'Pet', 'Wieght', 'Height', \"Bod_mass_index\"]\n",
    "dot_data = StringIO()\n",
    "export_graphviz(clf, out_file=dot_data, filled=True, rounded=True, special_characters=True, feature_names = feature_cols, class_names=['0', '1'])\n",
    "graph = pydotplus.graph_from_dot_data(dot_data.getvalue())\n",
    "graph.write_png('decisionTree.png')\n",
    "Image(graph.crea)"
   ]
  },
  {
   "cell_type": "code",
   "execution_count": null,
   "metadata": {},
   "outputs": [],
   "source": []
  }
 ]
}